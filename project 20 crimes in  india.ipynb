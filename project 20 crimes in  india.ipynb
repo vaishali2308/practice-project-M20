{
 "cells": [
  {
   "cell_type": "markdown",
   "metadata": {},
   "source": [
    "# Crimes in india"
   ]
  },
  {
   "cell_type": "code",
   "execution_count": 1,
   "metadata": {},
   "outputs": [],
   "source": [
    "import pandas as pd\n",
    "import numpy as np\n",
    "import warnings\n",
    "warnings.simplefilter('ignore')\n",
    "import matplotlib.pyplot as plt\n"
   ]
  },
  {
   "cell_type": "markdown",
   "metadata": {},
   "source": [
    "# Loading Dataset"
   ]
  },
  {
   "cell_type": "code",
   "execution_count": 2,
   "metadata": {},
   "outputs": [
    {
     "data": {
      "text/html": [
       "<div>\n",
       "<style scoped>\n",
       "    .dataframe tbody tr th:only-of-type {\n",
       "        vertical-align: middle;\n",
       "    }\n",
       "\n",
       "    .dataframe tbody tr th {\n",
       "        vertical-align: top;\n",
       "    }\n",
       "\n",
       "    .dataframe thead th {\n",
       "        text-align: right;\n",
       "    }\n",
       "</style>\n",
       "<table border=\"1\" class=\"dataframe\">\n",
       "  <thead>\n",
       "    <tr style=\"text-align: right;\">\n",
       "      <th></th>\n",
       "      <th>Area_Name</th>\n",
       "      <th>Year</th>\n",
       "      <th>Group_Name</th>\n",
       "      <th>Sub_Group_Name</th>\n",
       "      <th>Cases_Property_Recovered</th>\n",
       "      <th>Cases_Property_Stolen</th>\n",
       "      <th>Value_of_Property_Recovered</th>\n",
       "      <th>Value_of_Property_Stolen</th>\n",
       "    </tr>\n",
       "  </thead>\n",
       "  <tbody>\n",
       "    <tr>\n",
       "      <th>0</th>\n",
       "      <td>Andaman &amp; Nicobar Islands</td>\n",
       "      <td>2001</td>\n",
       "      <td>Burglary - Property</td>\n",
       "      <td>3. Burglary</td>\n",
       "      <td>27</td>\n",
       "      <td>64</td>\n",
       "      <td>755858</td>\n",
       "      <td>1321961</td>\n",
       "    </tr>\n",
       "    <tr>\n",
       "      <th>1</th>\n",
       "      <td>Andhra Pradesh</td>\n",
       "      <td>2001</td>\n",
       "      <td>Burglary - Property</td>\n",
       "      <td>3. Burglary</td>\n",
       "      <td>3321</td>\n",
       "      <td>7134</td>\n",
       "      <td>51483437</td>\n",
       "      <td>147019348</td>\n",
       "    </tr>\n",
       "    <tr>\n",
       "      <th>2</th>\n",
       "      <td>Arunachal Pradesh</td>\n",
       "      <td>2001</td>\n",
       "      <td>Burglary - Property</td>\n",
       "      <td>3. Burglary</td>\n",
       "      <td>66</td>\n",
       "      <td>248</td>\n",
       "      <td>825115</td>\n",
       "      <td>4931904</td>\n",
       "    </tr>\n",
       "    <tr>\n",
       "      <th>3</th>\n",
       "      <td>Assam</td>\n",
       "      <td>2001</td>\n",
       "      <td>Burglary - Property</td>\n",
       "      <td>3. Burglary</td>\n",
       "      <td>539</td>\n",
       "      <td>2423</td>\n",
       "      <td>3722850</td>\n",
       "      <td>21466955</td>\n",
       "    </tr>\n",
       "    <tr>\n",
       "      <th>4</th>\n",
       "      <td>Bihar</td>\n",
       "      <td>2001</td>\n",
       "      <td>Burglary - Property</td>\n",
       "      <td>3. Burglary</td>\n",
       "      <td>367</td>\n",
       "      <td>3231</td>\n",
       "      <td>2327135</td>\n",
       "      <td>17023937</td>\n",
       "    </tr>\n",
       "    <tr>\n",
       "      <th>...</th>\n",
       "      <td>...</td>\n",
       "      <td>...</td>\n",
       "      <td>...</td>\n",
       "      <td>...</td>\n",
       "      <td>...</td>\n",
       "      <td>...</td>\n",
       "      <td>...</td>\n",
       "      <td>...</td>\n",
       "    </tr>\n",
       "    <tr>\n",
       "      <th>178</th>\n",
       "      <td>Assam</td>\n",
       "      <td>2006</td>\n",
       "      <td>Burglary - Property</td>\n",
       "      <td>3. Burglary</td>\n",
       "      <td>557</td>\n",
       "      <td>2911</td>\n",
       "      <td>9818045</td>\n",
       "      <td>35783913</td>\n",
       "    </tr>\n",
       "    <tr>\n",
       "      <th>179</th>\n",
       "      <td>Bihar</td>\n",
       "      <td>2006</td>\n",
       "      <td>Burglary - Property</td>\n",
       "      <td>3. Burglary</td>\n",
       "      <td>362</td>\n",
       "      <td>3531</td>\n",
       "      <td>3180927</td>\n",
       "      <td>36841471</td>\n",
       "    </tr>\n",
       "    <tr>\n",
       "      <th>180</th>\n",
       "      <td>Chandigarh</td>\n",
       "      <td>2006</td>\n",
       "      <td>Burglary - Property</td>\n",
       "      <td>3. Burglary</td>\n",
       "      <td>98</td>\n",
       "      <td>189</td>\n",
       "      <td>2923970</td>\n",
       "      <td>6810631</td>\n",
       "    </tr>\n",
       "    <tr>\n",
       "      <th>181</th>\n",
       "      <td>Chhattisgarh</td>\n",
       "      <td>2006</td>\n",
       "      <td>Burglary - Property</td>\n",
       "      <td>3. Burglary</td>\n",
       "      <td>1070</td>\n",
       "      <td>3507</td>\n",
       "      <td>8717499</td>\n",
       "      <td>74386571</td>\n",
       "    </tr>\n",
       "    <tr>\n",
       "      <th>182</th>\n",
       "      <td>Dadra &amp; Nagar Haveli</td>\n",
       "      <td>2006</td>\n",
       "      <td>Burglary - Property</td>\n",
       "      <td>3. Burglary</td>\n",
       "      <td>12</td>\n",
       "      <td>41</td>\n",
       "      <td>971220</td>\n",
       "      <td>3752927</td>\n",
       "    </tr>\n",
       "  </tbody>\n",
       "</table>\n",
       "<p>183 rows × 8 columns</p>\n",
       "</div>"
      ],
      "text/plain": [
       "                     Area_Name  Year           Group_Name Sub_Group_Name  \\\n",
       "0    Andaman & Nicobar Islands  2001  Burglary - Property    3. Burglary   \n",
       "1               Andhra Pradesh  2001  Burglary - Property    3. Burglary   \n",
       "2            Arunachal Pradesh  2001  Burglary - Property    3. Burglary   \n",
       "3                        Assam  2001  Burglary - Property    3. Burglary   \n",
       "4                        Bihar  2001  Burglary - Property    3. Burglary   \n",
       "..                         ...   ...                  ...            ...   \n",
       "178                      Assam  2006  Burglary - Property    3. Burglary   \n",
       "179                      Bihar  2006  Burglary - Property    3. Burglary   \n",
       "180                 Chandigarh  2006  Burglary - Property    3. Burglary   \n",
       "181               Chhattisgarh  2006  Burglary - Property    3. Burglary   \n",
       "182       Dadra & Nagar Haveli  2006  Burglary - Property    3. Burglary   \n",
       "\n",
       "     Cases_Property_Recovered  Cases_Property_Stolen  \\\n",
       "0                          27                     64   \n",
       "1                        3321                   7134   \n",
       "2                          66                    248   \n",
       "3                         539                   2423   \n",
       "4                         367                   3231   \n",
       "..                        ...                    ...   \n",
       "178                       557                   2911   \n",
       "179                       362                   3531   \n",
       "180                        98                    189   \n",
       "181                      1070                   3507   \n",
       "182                        12                     41   \n",
       "\n",
       "     Value_of_Property_Recovered  Value_of_Property_Stolen  \n",
       "0                         755858                   1321961  \n",
       "1                       51483437                 147019348  \n",
       "2                         825115                   4931904  \n",
       "3                        3722850                  21466955  \n",
       "4                        2327135                  17023937  \n",
       "..                           ...                       ...  \n",
       "178                      9818045                  35783913  \n",
       "179                      3180927                  36841471  \n",
       "180                      2923970                   6810631  \n",
       "181                      8717499                  74386571  \n",
       "182                       971220                   3752927  \n",
       "\n",
       "[183 rows x 8 columns]"
      ]
     },
     "execution_count": 2,
     "metadata": {},
     "output_type": "execute_result"
    }
   ],
   "source": [
    "df=pd.read_csv('10_Property_stolen_and_recovered.csv')\n",
    "df"
   ]
  },
  {
   "cell_type": "code",
   "execution_count": 3,
   "metadata": {},
   "outputs": [
    {
     "data": {
      "text/plain": [
       "(183, 8)"
      ]
     },
     "execution_count": 3,
     "metadata": {},
     "output_type": "execute_result"
    }
   ],
   "source": [
    "df.shape"
   ]
  },
  {
   "cell_type": "code",
   "execution_count": 4,
   "metadata": {},
   "outputs": [
    {
     "data": {
      "text/plain": [
       "Area_Name                      object\n",
       "Year                            int64\n",
       "Group_Name                     object\n",
       "Sub_Group_Name                 object\n",
       "Cases_Property_Recovered        int64\n",
       "Cases_Property_Stolen           int64\n",
       "Value_of_Property_Recovered     int64\n",
       "Value_of_Property_Stolen        int64\n",
       "dtype: object"
      ]
     },
     "execution_count": 4,
     "metadata": {},
     "output_type": "execute_result"
    }
   ],
   "source": [
    "df.dtypes"
   ]
  },
  {
   "cell_type": "code",
   "execution_count": 5,
   "metadata": {},
   "outputs": [
    {
     "data": {
      "text/plain": [
       "Area_Name                      0\n",
       "Year                           0\n",
       "Group_Name                     0\n",
       "Sub_Group_Name                 0\n",
       "Cases_Property_Recovered       0\n",
       "Cases_Property_Stolen          0\n",
       "Value_of_Property_Recovered    0\n",
       "Value_of_Property_Stolen       0\n",
       "dtype: int64"
      ]
     },
     "execution_count": 5,
     "metadata": {},
     "output_type": "execute_result"
    }
   ],
   "source": [
    "df.isnull().sum()"
   ]
  },
  {
   "cell_type": "markdown",
   "metadata": {},
   "source": [
    "No Nan values are present in the dataset."
   ]
  },
  {
   "cell_type": "code",
   "execution_count": 6,
   "metadata": {},
   "outputs": [
    {
     "data": {
      "text/plain": [
       "<AxesSubplot:>"
      ]
     },
     "execution_count": 6,
     "metadata": {},
     "output_type": "execute_result"
    },
    {
     "data": {
      "image/png": "[encoded data removed]",
      "text/plain": [
       "<Figure size 432x288 with 2 Axes>"
      ]
     },
     "metadata": {
      "needs_background": "light"
     },
     "output_type": "display_data"
    }
   ],
   "source": [
    "import seaborn as sns\n",
    "sns.heatmap(df.isnull())"
   ]
  },
  {
   "cell_type": "code",
   "execution_count": 7,
   "metadata": {},
   "outputs": [
    {
     "data": {
      "text/html": [
       "<div>\n",
       "<style scoped>\n",
       "    .dataframe tbody tr th:only-of-type {\n",
       "        vertical-align: middle;\n",
       "    }\n",
       "\n",
       "    .dataframe tbody tr th {\n",
       "        vertical-align: top;\n",
       "    }\n",
       "\n",
       "    .dataframe thead th {\n",
       "        text-align: right;\n",
       "    }\n",
       "</style>\n",
       "<table border=\"1\" class=\"dataframe\">\n",
       "  <thead>\n",
       "    <tr style=\"text-align: right;\">\n",
       "      <th></th>\n",
       "      <th>Area_Name</th>\n",
       "      <th>Year</th>\n",
       "      <th>Group_Name</th>\n",
       "      <th>Sub_Group_Name</th>\n",
       "      <th>Cases_Property_Recovered</th>\n",
       "      <th>Cases_Property_Stolen</th>\n",
       "      <th>Value_of_Property_Recovered</th>\n",
       "      <th>Value_of_Property_Stolen</th>\n",
       "    </tr>\n",
       "  </thead>\n",
       "  <tbody>\n",
       "    <tr>\n",
       "      <th>178</th>\n",
       "      <td>Assam</td>\n",
       "      <td>2006</td>\n",
       "      <td>Burglary - Property</td>\n",
       "      <td>3. Burglary</td>\n",
       "      <td>557</td>\n",
       "      <td>2911</td>\n",
       "      <td>9818045</td>\n",
       "      <td>35783913</td>\n",
       "    </tr>\n",
       "    <tr>\n",
       "      <th>179</th>\n",
       "      <td>Bihar</td>\n",
       "      <td>2006</td>\n",
       "      <td>Burglary - Property</td>\n",
       "      <td>3. Burglary</td>\n",
       "      <td>362</td>\n",
       "      <td>3531</td>\n",
       "      <td>3180927</td>\n",
       "      <td>36841471</td>\n",
       "    </tr>\n",
       "    <tr>\n",
       "      <th>180</th>\n",
       "      <td>Chandigarh</td>\n",
       "      <td>2006</td>\n",
       "      <td>Burglary - Property</td>\n",
       "      <td>3. Burglary</td>\n",
       "      <td>98</td>\n",
       "      <td>189</td>\n",
       "      <td>2923970</td>\n",
       "      <td>6810631</td>\n",
       "    </tr>\n",
       "    <tr>\n",
       "      <th>181</th>\n",
       "      <td>Chhattisgarh</td>\n",
       "      <td>2006</td>\n",
       "      <td>Burglary - Property</td>\n",
       "      <td>3. Burglary</td>\n",
       "      <td>1070</td>\n",
       "      <td>3507</td>\n",
       "      <td>8717499</td>\n",
       "      <td>74386571</td>\n",
       "    </tr>\n",
       "    <tr>\n",
       "      <th>182</th>\n",
       "      <td>Dadra &amp; Nagar Haveli</td>\n",
       "      <td>2006</td>\n",
       "      <td>Burglary - Property</td>\n",
       "      <td>3. Burglary</td>\n",
       "      <td>12</td>\n",
       "      <td>41</td>\n",
       "      <td>971220</td>\n",
       "      <td>3752927</td>\n",
       "    </tr>\n",
       "  </tbody>\n",
       "</table>\n",
       "</div>"
      ],
      "text/plain": [
       "                Area_Name  Year           Group_Name Sub_Group_Name  \\\n",
       "178                 Assam  2006  Burglary - Property    3. Burglary   \n",
       "179                 Bihar  2006  Burglary - Property    3. Burglary   \n",
       "180            Chandigarh  2006  Burglary - Property    3. Burglary   \n",
       "181          Chhattisgarh  2006  Burglary - Property    3. Burglary   \n",
       "182  Dadra & Nagar Haveli  2006  Burglary - Property    3. Burglary   \n",
       "\n",
       "     Cases_Property_Recovered  Cases_Property_Stolen  \\\n",
       "178                       557                   2911   \n",
       "179                       362                   3531   \n",
       "180                        98                    189   \n",
       "181                      1070                   3507   \n",
       "182                        12                     41   \n",
       "\n",
       "     Value_of_Property_Recovered  Value_of_Property_Stolen  \n",
       "178                      9818045                  35783913  \n",
       "179                      3180927                  36841471  \n",
       "180                      2923970                   6810631  \n",
       "181                      8717499                  74386571  \n",
       "182                       971220                   3752927  "
      ]
     },
     "execution_count": 7,
     "metadata": {},
     "output_type": "execute_result"
    }
   ],
   "source": [
    "df.tail()#last five "
   ]
  },
  {
   "cell_type": "code",
   "execution_count": 8,
   "metadata": {},
   "outputs": [
    {
     "data": {
      "text/html": [
       "<div>\n",
       "<style scoped>\n",
       "    .dataframe tbody tr th:only-of-type {\n",
       "        vertical-align: middle;\n",
       "    }\n",
       "\n",
       "    .dataframe tbody tr th {\n",
       "        vertical-align: top;\n",
       "    }\n",
       "\n",
       "    .dataframe thead th {\n",
       "        text-align: right;\n",
       "    }\n",
       "</style>\n",
       "<table border=\"1\" class=\"dataframe\">\n",
       "  <thead>\n",
       "    <tr style=\"text-align: right;\">\n",
       "      <th></th>\n",
       "      <th>Area_Name</th>\n",
       "      <th>Year</th>\n",
       "      <th>Group_Name</th>\n",
       "      <th>Sub_Group_Name</th>\n",
       "      <th>Cases_Property_Recovered</th>\n",
       "      <th>Cases_Property_Stolen</th>\n",
       "      <th>Value_of_Property_Recovered</th>\n",
       "      <th>Value_of_Property_Stolen</th>\n",
       "    </tr>\n",
       "  </thead>\n",
       "  <tbody>\n",
       "    <tr>\n",
       "      <th>135</th>\n",
       "      <td>Tamil Nadu</td>\n",
       "      <td>2004</td>\n",
       "      <td>Burglary - Property</td>\n",
       "      <td>3. Burglary</td>\n",
       "      <td>2679</td>\n",
       "      <td>4147</td>\n",
       "      <td>76752113</td>\n",
       "      <td>124839785</td>\n",
       "    </tr>\n",
       "  </tbody>\n",
       "</table>\n",
       "</div>"
      ],
      "text/plain": [
       "      Area_Name  Year           Group_Name Sub_Group_Name  \\\n",
       "135  Tamil Nadu  2004  Burglary - Property    3. Burglary   \n",
       "\n",
       "     Cases_Property_Recovered  Cases_Property_Stolen  \\\n",
       "135                      2679                   4147   \n",
       "\n",
       "     Value_of_Property_Recovered  Value_of_Property_Stolen  \n",
       "135                     76752113                 124839785  "
      ]
     },
     "execution_count": 8,
     "metadata": {},
     "output_type": "execute_result"
    }
   ],
   "source": [
    "df.sample()#any one data info "
   ]
  },
  {
   "cell_type": "code",
   "execution_count": 9,
   "metadata": {
    "scrolled": true
   },
   "outputs": [
    {
     "name": "stdout",
     "output_type": "stream",
     "text": [
      "<class 'pandas.core.frame.DataFrame'>\n",
      "RangeIndex: 183 entries, 0 to 182\n",
      "Data columns (total 8 columns):\n",
      " #   Column                       Non-Null Count  Dtype \n",
      "---  ------                       --------------  ----- \n",
      " 0   Area_Name                    183 non-null    object\n",
      " 1   Year                         183 non-null    int64 \n",
      " 2   Group_Name                   183 non-null    object\n",
      " 3   Sub_Group_Name               183 non-null    object\n",
      " 4   Cases_Property_Recovered     183 non-null    int64 \n",
      " 5   Cases_Property_Stolen        183 non-null    int64 \n",
      " 6   Value_of_Property_Recovered  183 non-null    int64 \n",
      " 7   Value_of_Property_Stolen     183 non-null    int64 \n",
      "dtypes: int64(5), object(3)\n",
      "memory usage: 9.4+ KB\n"
     ]
    }
   ],
   "source": [
    "df.info()"
   ]
  },
  {
   "cell_type": "code",
   "execution_count": 10,
   "metadata": {},
   "outputs": [
    {
     "data": {
      "text/plain": [
       "0      Andaman & Nicobar Islands\n",
       "1                 Andhra Pradesh\n",
       "2              Arunachal Pradesh\n",
       "3                          Assam\n",
       "4                          Bihar\n",
       "                 ...            \n",
       "178                        Assam\n",
       "179                        Bihar\n",
       "180                   Chandigarh\n",
       "181                 Chhattisgarh\n",
       "182         Dadra & Nagar Haveli\n",
       "Name: Area_Name, Length: 183, dtype: object"
      ]
     },
     "execution_count": 10,
     "metadata": {},
     "output_type": "execute_result"
    }
   ],
   "source": [
    "df.iloc[:,0]"
   ]
  },
  {
   "cell_type": "code",
   "execution_count": 14,
   "metadata": {},
   "outputs": [],
   "source": [
    "df_group=df.groupby([\"Area_Name\",\"Group_Name\"]).agg({\"Cases_Property_Stolen\":\"sum\"})"
   ]
  },
  {
   "cell_type": "code",
   "execution_count": 15,
   "metadata": {},
   "outputs": [
    {
     "data": {
      "text/html": [
       "<div>\n",
       "<style scoped>\n",
       "    .dataframe tbody tr th:only-of-type {\n",
       "        vertical-align: middle;\n",
       "    }\n",
       "\n",
       "    .dataframe tbody tr th {\n",
       "        vertical-align: top;\n",
       "    }\n",
       "\n",
       "    .dataframe thead th {\n",
       "        text-align: right;\n",
       "    }\n",
       "</style>\n",
       "<table border=\"1\" class=\"dataframe\">\n",
       "  <thead>\n",
       "    <tr style=\"text-align: right;\">\n",
       "      <th></th>\n",
       "      <th></th>\n",
       "      <th>Cases_Property_Stolen</th>\n",
       "    </tr>\n",
       "    <tr>\n",
       "      <th>Area_Name</th>\n",
       "      <th>Group_Name</th>\n",
       "      <th></th>\n",
       "    </tr>\n",
       "  </thead>\n",
       "  <tbody>\n",
       "    <tr>\n",
       "      <th>Andaman &amp; Nicobar Islands</th>\n",
       "      <th>Burglary - Property</th>\n",
       "      <td>388</td>\n",
       "    </tr>\n",
       "    <tr>\n",
       "      <th>Andhra Pradesh</th>\n",
       "      <th>Burglary - Property</th>\n",
       "      <td>47788</td>\n",
       "    </tr>\n",
       "    <tr>\n",
       "      <th>Arunachal Pradesh</th>\n",
       "      <th>Burglary - Property</th>\n",
       "      <td>1485</td>\n",
       "    </tr>\n",
       "    <tr>\n",
       "      <th>Assam</th>\n",
       "      <th>Burglary - Property</th>\n",
       "      <td>15243</td>\n",
       "    </tr>\n",
       "    <tr>\n",
       "      <th>Bihar</th>\n",
       "      <th>Burglary - Property</th>\n",
       "      <td>19222</td>\n",
       "    </tr>\n",
       "    <tr>\n",
       "      <th>Chandigarh</th>\n",
       "      <th>Burglary - Property</th>\n",
       "      <td>1502</td>\n",
       "    </tr>\n",
       "    <tr>\n",
       "      <th>Chhattisgarh</th>\n",
       "      <th>Burglary - Property</th>\n",
       "      <td>22344</td>\n",
       "    </tr>\n",
       "    <tr>\n",
       "      <th>Dadra &amp; Nagar Haveli</th>\n",
       "      <th>Burglary - Property</th>\n",
       "      <td>199</td>\n",
       "    </tr>\n",
       "    <tr>\n",
       "      <th>Daman &amp; Diu</th>\n",
       "      <th>Burglary - Property</th>\n",
       "      <td>212</td>\n",
       "    </tr>\n",
       "    <tr>\n",
       "      <th>Delhi</th>\n",
       "      <th>Burglary - Property</th>\n",
       "      <td>11255</td>\n",
       "    </tr>\n",
       "    <tr>\n",
       "      <th>Goa</th>\n",
       "      <th>Burglary - Property</th>\n",
       "      <td>1452</td>\n",
       "    </tr>\n",
       "    <tr>\n",
       "      <th>Gujarat</th>\n",
       "      <th>Burglary - Property</th>\n",
       "      <td>26575</td>\n",
       "    </tr>\n",
       "    <tr>\n",
       "      <th>Haryana</th>\n",
       "      <th>Burglary - Property</th>\n",
       "      <td>15317</td>\n",
       "    </tr>\n",
       "    <tr>\n",
       "      <th>Himachal Pradesh</th>\n",
       "      <th>Burglary - Property</th>\n",
       "      <td>3512</td>\n",
       "    </tr>\n",
       "    <tr>\n",
       "      <th>Jammu &amp; Kashmir</th>\n",
       "      <th>Burglary - Property</th>\n",
       "      <td>7009</td>\n",
       "    </tr>\n",
       "    <tr>\n",
       "      <th>Jharkhand</th>\n",
       "      <th>Burglary - Property</th>\n",
       "      <td>6962</td>\n",
       "    </tr>\n",
       "    <tr>\n",
       "      <th>Karnataka</th>\n",
       "      <th>Burglary - Property</th>\n",
       "      <td>31002</td>\n",
       "    </tr>\n",
       "    <tr>\n",
       "      <th>Kerala</th>\n",
       "      <th>Burglary - Property</th>\n",
       "      <td>21069</td>\n",
       "    </tr>\n",
       "    <tr>\n",
       "      <th>Lakshadweep</th>\n",
       "      <th>Burglary - Property</th>\n",
       "      <td>20</td>\n",
       "    </tr>\n",
       "    <tr>\n",
       "      <th>Madhya Pradesh</th>\n",
       "      <th>Burglary - Property</th>\n",
       "      <td>62856</td>\n",
       "    </tr>\n",
       "    <tr>\n",
       "      <th>Maharashtra</th>\n",
       "      <th>Burglary - Property</th>\n",
       "      <td>68987</td>\n",
       "    </tr>\n",
       "    <tr>\n",
       "      <th>Manipur</th>\n",
       "      <th>Burglary - Property</th>\n",
       "      <td>315</td>\n",
       "    </tr>\n",
       "    <tr>\n",
       "      <th>Meghalaya</th>\n",
       "      <th>Burglary - Property</th>\n",
       "      <td>750</td>\n",
       "    </tr>\n",
       "    <tr>\n",
       "      <th>Mizoram</th>\n",
       "      <th>Burglary - Property</th>\n",
       "      <td>2042</td>\n",
       "    </tr>\n",
       "    <tr>\n",
       "      <th>Nagaland</th>\n",
       "      <th>Burglary - Property</th>\n",
       "      <td>421</td>\n",
       "    </tr>\n",
       "    <tr>\n",
       "      <th>Odisha</th>\n",
       "      <th>Burglary - Property</th>\n",
       "      <td>14745</td>\n",
       "    </tr>\n",
       "    <tr>\n",
       "      <th>Puducherry</th>\n",
       "      <th>Burglary - Property</th>\n",
       "      <td>519</td>\n",
       "    </tr>\n",
       "    <tr>\n",
       "      <th>Punjab</th>\n",
       "      <th>Burglary - Property</th>\n",
       "      <td>9623</td>\n",
       "    </tr>\n",
       "    <tr>\n",
       "      <th>Rajasthan</th>\n",
       "      <th>Burglary - Property</th>\n",
       "      <td>29568</td>\n",
       "    </tr>\n",
       "    <tr>\n",
       "      <th>Sikkim</th>\n",
       "      <th>Burglary - Property</th>\n",
       "      <td>307</td>\n",
       "    </tr>\n",
       "    <tr>\n",
       "      <th>Tamil Nadu</th>\n",
       "      <th>Burglary - Property</th>\n",
       "      <td>24145</td>\n",
       "    </tr>\n",
       "    <tr>\n",
       "      <th>Tripura</th>\n",
       "      <th>Burglary - Property</th>\n",
       "      <td>893</td>\n",
       "    </tr>\n",
       "    <tr>\n",
       "      <th>Uttar Pradesh</th>\n",
       "      <th>Burglary - Property</th>\n",
       "      <td>22430</td>\n",
       "    </tr>\n",
       "    <tr>\n",
       "      <th>Uttarakhand</th>\n",
       "      <th>Burglary - Property</th>\n",
       "      <td>2547</td>\n",
       "    </tr>\n",
       "    <tr>\n",
       "      <th>West Bengal</th>\n",
       "      <th>Burglary - Property</th>\n",
       "      <td>2402</td>\n",
       "    </tr>\n",
       "  </tbody>\n",
       "</table>\n",
       "</div>"
      ],
      "text/plain": [
       "                                               Cases_Property_Stolen\n",
       "Area_Name                 Group_Name                                \n",
       "Andaman & Nicobar Islands Burglary - Property                    388\n",
       "Andhra Pradesh            Burglary - Property                  47788\n",
       "Arunachal Pradesh         Burglary - Property                   1485\n",
       "Assam                     Burglary - Property                  15243\n",
       "Bihar                     Burglary - Property                  19222\n",
       "Chandigarh                Burglary - Property                   1502\n",
       "Chhattisgarh              Burglary - Property                  22344\n",
       "Dadra & Nagar Haveli      Burglary - Property                    199\n",
       "Daman & Diu               Burglary - Property                    212\n",
       "Delhi                     Burglary - Property                  11255\n",
       "Goa                       Burglary - Property                   1452\n",
       "Gujarat                   Burglary - Property                  26575\n",
       "Haryana                   Burglary - Property                  15317\n",
       "Himachal Pradesh          Burglary - Property                   3512\n",
       "Jammu & Kashmir           Burglary - Property                   7009\n",
       "Jharkhand                 Burglary - Property                   6962\n",
       "Karnataka                 Burglary - Property                  31002\n",
       "Kerala                    Burglary - Property                  21069\n",
       "Lakshadweep               Burglary - Property                     20\n",
       "Madhya Pradesh            Burglary - Property                  62856\n",
       "Maharashtra               Burglary - Property                  68987\n",
       "Manipur                   Burglary - Property                    315\n",
       "Meghalaya                 Burglary - Property                    750\n",
       "Mizoram                   Burglary - Property                   2042\n",
       "Nagaland                  Burglary - Property                    421\n",
       "Odisha                    Burglary - Property                  14745\n",
       "Puducherry                Burglary - Property                    519\n",
       "Punjab                    Burglary - Property                   9623\n",
       "Rajasthan                 Burglary - Property                  29568\n",
       "Sikkim                    Burglary - Property                    307\n",
       "Tamil Nadu                Burglary - Property                  24145\n",
       "Tripura                   Burglary - Property                    893\n",
       "Uttar Pradesh             Burglary - Property                  22430\n",
       "Uttarakhand               Burglary - Property                   2547\n",
       "West Bengal               Burglary - Property                   2402"
      ]
     },
     "execution_count": 15,
     "metadata": {},
     "output_type": "execute_result"
    }
   ],
   "source": [
    "df_group"
   ]
  },
  {
   "cell_type": "code",
   "execution_count": 16,
   "metadata": {},
   "outputs": [],
   "source": [
    "df_group=df.groupby([\"Area_Name\",\"Group_Name\"]).agg({\"Cases_Property_Recovered\":\"sum\"})"
   ]
  },
  {
   "cell_type": "code",
   "execution_count": 17,
   "metadata": {},
   "outputs": [
    {
     "data": {
      "text/html": [
       "<div>\n",
       "<style scoped>\n",
       "    .dataframe tbody tr th:only-of-type {\n",
       "        vertical-align: middle;\n",
       "    }\n",
       "\n",
       "    .dataframe tbody tr th {\n",
       "        vertical-align: top;\n",
       "    }\n",
       "\n",
       "    .dataframe thead th {\n",
       "        text-align: right;\n",
       "    }\n",
       "</style>\n",
       "<table border=\"1\" class=\"dataframe\">\n",
       "  <thead>\n",
       "    <tr style=\"text-align: right;\">\n",
       "      <th></th>\n",
       "      <th></th>\n",
       "      <th>Cases_Property_Recovered</th>\n",
       "    </tr>\n",
       "    <tr>\n",
       "      <th>Area_Name</th>\n",
       "      <th>Group_Name</th>\n",
       "      <th></th>\n",
       "    </tr>\n",
       "  </thead>\n",
       "  <tbody>\n",
       "    <tr>\n",
       "      <th>Andaman &amp; Nicobar Islands</th>\n",
       "      <th>Burglary - Property</th>\n",
       "      <td>136</td>\n",
       "    </tr>\n",
       "    <tr>\n",
       "      <th>Andhra Pradesh</th>\n",
       "      <th>Burglary - Property</th>\n",
       "      <td>20441</td>\n",
       "    </tr>\n",
       "    <tr>\n",
       "      <th>Arunachal Pradesh</th>\n",
       "      <th>Burglary - Property</th>\n",
       "      <td>399</td>\n",
       "    </tr>\n",
       "    <tr>\n",
       "      <th>Assam</th>\n",
       "      <th>Burglary - Property</th>\n",
       "      <td>3026</td>\n",
       "    </tr>\n",
       "    <tr>\n",
       "      <th>Bihar</th>\n",
       "      <th>Burglary - Property</th>\n",
       "      <td>1993</td>\n",
       "    </tr>\n",
       "    <tr>\n",
       "      <th>Chandigarh</th>\n",
       "      <th>Burglary - Property</th>\n",
       "      <td>565</td>\n",
       "    </tr>\n",
       "    <tr>\n",
       "      <th>Chhattisgarh</th>\n",
       "      <th>Burglary - Property</th>\n",
       "      <td>6446</td>\n",
       "    </tr>\n",
       "    <tr>\n",
       "      <th>Dadra &amp; Nagar Haveli</th>\n",
       "      <th>Burglary - Property</th>\n",
       "      <td>61</td>\n",
       "    </tr>\n",
       "    <tr>\n",
       "      <th>Daman &amp; Diu</th>\n",
       "      <th>Burglary - Property</th>\n",
       "      <td>39</td>\n",
       "    </tr>\n",
       "    <tr>\n",
       "      <th>Delhi</th>\n",
       "      <th>Burglary - Property</th>\n",
       "      <td>3886</td>\n",
       "    </tr>\n",
       "    <tr>\n",
       "      <th>Goa</th>\n",
       "      <th>Burglary - Property</th>\n",
       "      <td>400</td>\n",
       "    </tr>\n",
       "    <tr>\n",
       "      <th>Gujarat</th>\n",
       "      <th>Burglary - Property</th>\n",
       "      <td>6137</td>\n",
       "    </tr>\n",
       "    <tr>\n",
       "      <th>Haryana</th>\n",
       "      <th>Burglary - Property</th>\n",
       "      <td>6800</td>\n",
       "    </tr>\n",
       "    <tr>\n",
       "      <th>Himachal Pradesh</th>\n",
       "      <th>Burglary - Property</th>\n",
       "      <td>603</td>\n",
       "    </tr>\n",
       "    <tr>\n",
       "      <th>Jammu &amp; Kashmir</th>\n",
       "      <th>Burglary - Property</th>\n",
       "      <td>996</td>\n",
       "    </tr>\n",
       "    <tr>\n",
       "      <th>Jharkhand</th>\n",
       "      <th>Burglary - Property</th>\n",
       "      <td>1077</td>\n",
       "    </tr>\n",
       "    <tr>\n",
       "      <th>Karnataka</th>\n",
       "      <th>Burglary - Property</th>\n",
       "      <td>8668</td>\n",
       "    </tr>\n",
       "    <tr>\n",
       "      <th>Kerala</th>\n",
       "      <th>Burglary - Property</th>\n",
       "      <td>4861</td>\n",
       "    </tr>\n",
       "    <tr>\n",
       "      <th>Lakshadweep</th>\n",
       "      <th>Burglary - Property</th>\n",
       "      <td>3</td>\n",
       "    </tr>\n",
       "    <tr>\n",
       "      <th>Madhya Pradesh</th>\n",
       "      <th>Burglary - Property</th>\n",
       "      <td>18772</td>\n",
       "    </tr>\n",
       "    <tr>\n",
       "      <th>Maharashtra</th>\n",
       "      <th>Burglary - Property</th>\n",
       "      <td>19005</td>\n",
       "    </tr>\n",
       "    <tr>\n",
       "      <th>Manipur</th>\n",
       "      <th>Burglary - Property</th>\n",
       "      <td>14</td>\n",
       "    </tr>\n",
       "    <tr>\n",
       "      <th>Meghalaya</th>\n",
       "      <th>Burglary - Property</th>\n",
       "      <td>119</td>\n",
       "    </tr>\n",
       "    <tr>\n",
       "      <th>Mizoram</th>\n",
       "      <th>Burglary - Property</th>\n",
       "      <td>1142</td>\n",
       "    </tr>\n",
       "    <tr>\n",
       "      <th>Nagaland</th>\n",
       "      <th>Burglary - Property</th>\n",
       "      <td>104</td>\n",
       "    </tr>\n",
       "    <tr>\n",
       "      <th>Odisha</th>\n",
       "      <th>Burglary - Property</th>\n",
       "      <td>6141</td>\n",
       "    </tr>\n",
       "    <tr>\n",
       "      <th>Puducherry</th>\n",
       "      <th>Burglary - Property</th>\n",
       "      <td>218</td>\n",
       "    </tr>\n",
       "    <tr>\n",
       "      <th>Punjab</th>\n",
       "      <th>Burglary - Property</th>\n",
       "      <td>3876</td>\n",
       "    </tr>\n",
       "    <tr>\n",
       "      <th>Rajasthan</th>\n",
       "      <th>Burglary - Property</th>\n",
       "      <td>8614</td>\n",
       "    </tr>\n",
       "    <tr>\n",
       "      <th>Sikkim</th>\n",
       "      <th>Burglary - Property</th>\n",
       "      <td>57</td>\n",
       "    </tr>\n",
       "    <tr>\n",
       "      <th>Tamil Nadu</th>\n",
       "      <th>Burglary - Property</th>\n",
       "      <td>14304</td>\n",
       "    </tr>\n",
       "    <tr>\n",
       "      <th>Tripura</th>\n",
       "      <th>Burglary - Property</th>\n",
       "      <td>167</td>\n",
       "    </tr>\n",
       "    <tr>\n",
       "      <th>Uttar Pradesh</th>\n",
       "      <th>Burglary - Property</th>\n",
       "      <td>4686</td>\n",
       "    </tr>\n",
       "    <tr>\n",
       "      <th>Uttarakhand</th>\n",
       "      <th>Burglary - Property</th>\n",
       "      <td>512</td>\n",
       "    </tr>\n",
       "    <tr>\n",
       "      <th>West Bengal</th>\n",
       "      <th>Burglary - Property</th>\n",
       "      <td>595</td>\n",
       "    </tr>\n",
       "  </tbody>\n",
       "</table>\n",
       "</div>"
      ],
      "text/plain": [
       "                                               Cases_Property_Recovered\n",
       "Area_Name                 Group_Name                                   \n",
       "Andaman & Nicobar Islands Burglary - Property                       136\n",
       "Andhra Pradesh            Burglary - Property                     20441\n",
       "Arunachal Pradesh         Burglary - Property                       399\n",
       "Assam                     Burglary - Property                      3026\n",
       "Bihar                     Burglary - Property                      1993\n",
       "Chandigarh                Burglary - Property                       565\n",
       "Chhattisgarh              Burglary - Property                      6446\n",
       "Dadra & Nagar Haveli      Burglary - Property                        61\n",
       "Daman & Diu               Burglary - Property                        39\n",
       "Delhi                     Burglary - Property                      3886\n",
       "Goa                       Burglary - Property                       400\n",
       "Gujarat                   Burglary - Property                      6137\n",
       "Haryana                   Burglary - Property                      6800\n",
       "Himachal Pradesh          Burglary - Property                       603\n",
       "Jammu & Kashmir           Burglary - Property                       996\n",
       "Jharkhand                 Burglary - Property                      1077\n",
       "Karnataka                 Burglary - Property                      8668\n",
       "Kerala                    Burglary - Property                      4861\n",
       "Lakshadweep               Burglary - Property                         3\n",
       "Madhya Pradesh            Burglary - Property                     18772\n",
       "Maharashtra               Burglary - Property                     19005\n",
       "Manipur                   Burglary - Property                        14\n",
       "Meghalaya                 Burglary - Property                       119\n",
       "Mizoram                   Burglary - Property                      1142\n",
       "Nagaland                  Burglary - Property                       104\n",
       "Odisha                    Burglary - Property                      6141\n",
       "Puducherry                Burglary - Property                       218\n",
       "Punjab                    Burglary - Property                      3876\n",
       "Rajasthan                 Burglary - Property                      8614\n",
       "Sikkim                    Burglary - Property                        57\n",
       "Tamil Nadu                Burglary - Property                     14304\n",
       "Tripura                   Burglary - Property                       167\n",
       "Uttar Pradesh             Burglary - Property                      4686\n",
       "Uttarakhand               Burglary - Property                       512\n",
       "West Bengal               Burglary - Property                       595"
      ]
     },
     "execution_count": 17,
     "metadata": {},
     "output_type": "execute_result"
    }
   ],
   "source": [
    "df_group"
   ]
  },
  {
   "cell_type": "markdown",
   "metadata": {},
   "source": [
    "# Summary statistics"
   ]
  },
  {
   "cell_type": "code",
   "execution_count": 11,
   "metadata": {},
   "outputs": [
    {
     "data": {
      "text/plain": [
       "<bound method NDFrame.describe of                      Area_Name  Year           Group_Name Sub_Group_Name  \\\n",
       "0    Andaman & Nicobar Islands  2001  Burglary - Property    3. Burglary   \n",
       "1               Andhra Pradesh  2001  Burglary - Property    3. Burglary   \n",
       "2            Arunachal Pradesh  2001  Burglary - Property    3. Burglary   \n",
       "3                        Assam  2001  Burglary - Property    3. Burglary   \n",
       "4                        Bihar  2001  Burglary - Property    3. Burglary   \n",
       "..                         ...   ...                  ...            ...   \n",
       "178                      Assam  2006  Burglary - Property    3. Burglary   \n",
       "179                      Bihar  2006  Burglary - Property    3. Burglary   \n",
       "180                 Chandigarh  2006  Burglary - Property    3. Burglary   \n",
       "181               Chhattisgarh  2006  Burglary - Property    3. Burglary   \n",
       "182       Dadra & Nagar Haveli  2006  Burglary - Property    3. Burglary   \n",
       "\n",
       "     Cases_Property_Recovered  Cases_Property_Stolen  \\\n",
       "0                          27                     64   \n",
       "1                        3321                   7134   \n",
       "2                          66                    248   \n",
       "3                         539                   2423   \n",
       "4                         367                   3231   \n",
       "..                        ...                    ...   \n",
       "178                       557                   2911   \n",
       "179                       362                   3531   \n",
       "180                        98                    189   \n",
       "181                      1070                   3507   \n",
       "182                        12                     41   \n",
       "\n",
       "     Value_of_Property_Recovered  Value_of_Property_Stolen  \n",
       "0                         755858                   1321961  \n",
       "1                       51483437                 147019348  \n",
       "2                         825115                   4931904  \n",
       "3                        3722850                  21466955  \n",
       "4                        2327135                  17023937  \n",
       "..                           ...                       ...  \n",
       "178                      9818045                  35783913  \n",
       "179                      3180927                  36841471  \n",
       "180                      2923970                   6810631  \n",
       "181                      8717499                  74386571  \n",
       "182                       971220                   3752927  \n",
       "\n",
       "[183 rows x 8 columns]>"
      ]
     },
     "execution_count": 11,
     "metadata": {},
     "output_type": "execute_result"
    }
   ],
   "source": [
    "df.describe"
   ]
  },
  {
   "cell_type": "code",
   "execution_count": 12,
   "metadata": {},
   "outputs": [
    {
     "data": {
      "text/plain": [
       "Year                           0.080820\n",
       "Cases_Property_Recovered       1.663316\n",
       "Cases_Property_Stolen          1.822455\n",
       "Value_of_Property_Recovered    7.737059\n",
       "Value_of_Property_Stolen       3.014041\n",
       "dtype: float64"
      ]
     },
     "execution_count": 12,
     "metadata": {},
     "output_type": "execute_result"
    }
   ],
   "source": [
    "df.skew()"
   ]
  },
  {
   "cell_type": "markdown",
   "metadata": {},
   "source": [
    "# Univariate analysis"
   ]
  },
  {
   "cell_type": "code",
   "execution_count": 18,
   "metadata": {},
   "outputs": [
    {
     "data": {
      "image/png": "[encoded data removed]",
      "text/plain": [
       "<Figure size 432x288 with 1 Axes>"
      ]
     },
     "metadata": {
      "needs_background": "light"
     },
     "output_type": "display_data"
    }
   ],
   "source": [
    "plt.hist(df['Cases_Property_Stolen'])\n",
    "plt.title('stolen histogram')\n",
    "plt.show()"
   ]
  },
  {
   "cell_type": "code",
   "execution_count": 19,
   "metadata": {},
   "outputs": [
    {
     "data": {
      "image/png": "[encoded data removed]",
      "text/plain": [
       "<Figure size 432x288 with 1 Axes>"
      ]
     },
     "metadata": {
      "needs_background": "light"
     },
     "output_type": "display_data"
    }
   ],
   "source": [
    "plt.hist(df['Cases_Property_Recovered'])\n",
    "plt.title('Recovered histogram')\n",
    "plt.show()"
   ]
  },
  {
   "cell_type": "code",
   "execution_count": 21,
   "metadata": {
    "scrolled": true
   },
   "outputs": [
    {
     "data": {
      "image/png": "[encoded data removed]",
      "text/plain": [
       "<Figure size 432x288 with 1 Axes>"
      ]
     },
     "metadata": {
      "needs_background": "light"
     },
     "output_type": "display_data"
    }
   ],
   "source": [
    "plt.hist(df['Value_of_Property_Recovered'])\n",
    "plt.title('value histogram')\n",
    "plt.show()"
   ]
  },
  {
   "cell_type": "code",
   "execution_count": 22,
   "metadata": {},
   "outputs": [
    {
     "data": {
      "text/plain": [
       "{'whiskers': [<matplotlib.lines.Line2D at 0x8085688>,\n",
       "  <matplotlib.lines.Line2D at 0x8085838>],\n",
       " 'caps': [<matplotlib.lines.Line2D at 0x80859e8>,\n",
       "  <matplotlib.lines.Line2D at 0x8085b98>],\n",
       " 'boxes': [<matplotlib.lines.Line2D at 0x80854d8>],\n",
       " 'medians': [<matplotlib.lines.Line2D at 0x8085d48>],\n",
       " 'fliers': [<matplotlib.lines.Line2D at 0x8085ef8>],\n",
       " 'means': []}"
      ]
     },
     "execution_count": 22,
     "metadata": {},
     "output_type": "execute_result"
    },
    {
     "data": {
      "image/png": "[encoded data removed]",
      "text/plain": [
       "<Figure size 432x288 with 1 Axes>"
      ]
     },
     "metadata": {
      "needs_background": "light"
     },
     "output_type": "display_data"
    }
   ],
   "source": [
    "plt.boxplot(df['Cases_Property_Stolen'])"
   ]
  },
  {
   "cell_type": "code",
   "execution_count": 23,
   "metadata": {},
   "outputs": [
    {
     "data": {
      "text/plain": [
       "{'whiskers': [<matplotlib.lines.Line2D at 0x80bcd78>,\n",
       "  <matplotlib.lines.Line2D at 0x80bcf28>],\n",
       " 'caps': [<matplotlib.lines.Line2D at 0x80cb100>,\n",
       "  <matplotlib.lines.Line2D at 0x80cb2c8>],\n",
       " 'boxes': [<matplotlib.lines.Line2D at 0x80bcbc8>],\n",
       " 'medians': [<matplotlib.lines.Line2D at 0x80cb478>],\n",
       " 'fliers': [<matplotlib.lines.Line2D at 0x80cb628>],\n",
       " 'means': []}"
      ]
     },
     "execution_count": 23,
     "metadata": {},
     "output_type": "execute_result"
    },
    {
     "data": {
      "image/png": "[encoded data removed]",
      "text/plain": [
       "<Figure size 432x288 with 1 Axes>"
      ]
     },
     "metadata": {
      "needs_background": "light"
     },
     "output_type": "display_data"
    }
   ],
   "source": [
    "plt.boxplot(df['Cases_Property_Recovered'])"
   ]
  },
  {
   "cell_type": "code",
   "execution_count": 24,
   "metadata": {},
   "outputs": [
    {
     "data": {
      "text/plain": [
       "{'bodies': [<matplotlib.collections.PolyCollection at 0x80f1a90>],\n",
       " 'cmaxes': <matplotlib.collections.LineCollection at 0x80f19a0>,\n",
       " 'cmins': <matplotlib.collections.LineCollection at 0x80f13e8>,\n",
       " 'cbars': <matplotlib.collections.LineCollection at 0x80f1cd0>}"
      ]
     },
     "execution_count": 24,
     "metadata": {},
     "output_type": "execute_result"
    },
    {
     "data": {
      "image/png": "[encoded data removed]",
      "text/plain": [
       "<Figure size 432x288 with 1 Axes>"
      ]
     },
     "metadata": {
      "needs_background": "light"
     },
     "output_type": "display_data"
    }
   ],
   "source": [
    "plt.violinplot(df['Value_of_Property_Recovered'])"
   ]
  },
  {
   "cell_type": "code",
   "execution_count": 31,
   "metadata": {},
   "outputs": [
    {
     "data": {
      "text/plain": [
       "<AxesSubplot:xlabel='Cases_Property_Stolen', ylabel='Density'>"
      ]
     },
     "execution_count": 31,
     "metadata": {},
     "output_type": "execute_result"
    },
    {
     "data": {
      "image/png": "[encoded data removed]",
      "text/plain": [
       "<Figure size 432x288 with 1 Axes>"
      ]
     },
     "metadata": {},
     "output_type": "display_data"
    }
   ],
   "source": [
    "sns.distplot(df[\"Cases_Property_Stolen\"])"
   ]
  },
  {
   "cell_type": "code",
   "execution_count": 25,
   "metadata": {},
   "outputs": [
    {
     "data": {
      "text/plain": [
       "{'bodies': [<matplotlib.collections.PolyCollection at 0x8125fd0>],\n",
       " 'cmaxes': <matplotlib.collections.LineCollection at 0x8125ef8>,\n",
       " 'cmins': <matplotlib.collections.LineCollection at 0x8136250>,\n",
       " 'cbars': <matplotlib.collections.LineCollection at 0x81363d0>}"
      ]
     },
     "execution_count": 25,
     "metadata": {},
     "output_type": "execute_result"
    },
    {
     "data": {
      "image/png": "[encoded data removed]",
      "text/plain": [
       "<Figure size 432x288 with 1 Axes>"
      ]
     },
     "metadata": {
      "needs_background": "light"
     },
     "output_type": "display_data"
    }
   ],
   "source": [
    "plt.violinplot(df['Value_of_Property_Stolen'])"
   ]
  },
  {
   "cell_type": "markdown",
   "metadata": {},
   "source": [
    "# Bivariate analysis"
   ]
  },
  {
   "cell_type": "code",
   "execution_count": 26,
   "metadata": {},
   "outputs": [
    {
     "data": {
      "image/png": "[encoded data removed]",
      "text/plain": [
       "<Figure size 432x288 with 1 Axes>"
      ]
     },
     "metadata": {
      "needs_background": "light"
     },
     "output_type": "display_data"
    }
   ],
   "source": [
    "x=df['Cases_Property_Recovered']\n",
    "y=df['Cases_Property_Stolen']\n",
    "plt.scatter(x,y)\n",
    "plt.xlabel('recovered')\n",
    "plt.ylabel('stolen')\n",
    "plt.show()"
   ]
  },
  {
   "cell_type": "code",
   "execution_count": 27,
   "metadata": {},
   "outputs": [
    {
     "data": {
      "image/png": "[encoded data removed]",
      "text/plain": [
       "<Figure size 432x288 with 1 Axes>"
      ]
     },
     "metadata": {
      "needs_background": "light"
     },
     "output_type": "display_data"
    }
   ],
   "source": [
    "x=df['Cases_Property_Recovered']\n",
    "y=df['Value_of_Property_Recovered']\n",
    "plt.scatter(x,y)\n",
    "plt.xlabel('recovered')\n",
    "plt.ylabel('value')\n",
    "plt.show()"
   ]
  },
  {
   "cell_type": "code",
   "execution_count": 28,
   "metadata": {},
   "outputs": [
    {
     "data": {
      "image/png": "[encoded data removed]",
      "text/plain": [
       "<Figure size 432x288 with 1 Axes>"
      ]
     },
     "metadata": {
      "needs_background": "light"
     },
     "output_type": "display_data"
    }
   ],
   "source": [
    "x=df['Value_of_Property_Stolen']\n",
    "y=df['Cases_Property_Stolen']\n",
    "plt.scatter(x,y)\n",
    "plt.xlabel('recovered')\n",
    "plt.ylabel('stolen')\n",
    "plt.show()"
   ]
  },
  {
   "cell_type": "code",
   "execution_count": 29,
   "metadata": {},
   "outputs": [
    {
     "data": {
      "image/png": "[encoded data removed]",
      "text/plain": [
       "<Figure size 432x288 with 1 Axes>"
      ]
     },
     "metadata": {},
     "output_type": "display_data"
    }
   ],
   "source": [
    "import seaborn as sns\n",
    "sns.set(style=\"whitegrid\")\n",
    "ax=sns.stripplot(x='Cases_Property_Stolen',y='Cases_Property_Recovered',data=df)\n",
    "plt.title('Graph')\n",
    "plt.show()"
   ]
  },
  {
   "cell_type": "markdown",
   "metadata": {},
   "source": [
    "# Multivariate analysis"
   ]
  },
  {
   "cell_type": "code",
   "execution_count": 32,
   "metadata": {},
   "outputs": [
    {
     "data": {
      "text/plain": [
       "<seaborn.axisgrid.PairGrid at 0x813ee98>"
      ]
     },
     "execution_count": 32,
     "metadata": {},
     "output_type": "execute_result"
    },
    {
     "data": {
      "image/png": "[encoded data removed]",
      "text/plain": [
       "<Figure size 900x900 with 30 Axes>"
      ]
     },
     "metadata": {},
     "output_type": "display_data"
    }
   ],
   "source": [
    "sns.pairplot(df)"
   ]
  },
  {
   "cell_type": "markdown",
   "metadata": {},
   "source": [
    "# Statistical analysis"
   ]
  },
  {
   "cell_type": "code",
   "execution_count": 33,
   "metadata": {},
   "outputs": [],
   "source": [
    "dfcor=df.corr()"
   ]
  },
  {
   "cell_type": "code",
   "execution_count": 34,
   "metadata": {},
   "outputs": [
    {
     "data": {
      "text/plain": [
       "<AxesSubplot:>"
      ]
     },
     "execution_count": 34,
     "metadata": {},
     "output_type": "execute_result"
    },
    {
     "data": {
      "image/png": "[encoded data removed]",
      "text/plain": [
       "<Figure size 432x288 with 2 Axes>"
      ]
     },
     "metadata": {},
     "output_type": "display_data"
    }
   ],
   "source": [
    "sns.heatmap(dfcor,annot=True)"
   ]
  },
  {
   "cell_type": "markdown",
   "metadata": {},
   "source": [
    "obeservations-:\n",
    "    1.some positive correlation can be seen between value of recoverd and stolen property.\n",
    "    2. also stolen and recovered property also seems to have correlations."
   ]
  },
  {
   "cell_type": "code",
   "execution_count": 36,
   "metadata": {},
   "outputs": [
    {
     "data": {
      "text/html": [
       "<div>\n",
       "<style scoped>\n",
       "    .dataframe tbody tr th:only-of-type {\n",
       "        vertical-align: middle;\n",
       "    }\n",
       "\n",
       "    .dataframe tbody tr th {\n",
       "        vertical-align: top;\n",
       "    }\n",
       "\n",
       "    .dataframe thead th {\n",
       "        text-align: right;\n",
       "    }\n",
       "</style>\n",
       "<table border=\"1\" class=\"dataframe\">\n",
       "  <thead>\n",
       "    <tr style=\"text-align: right;\">\n",
       "      <th></th>\n",
       "      <th>Year</th>\n",
       "      <th>Cases_Property_Recovered</th>\n",
       "      <th>Cases_Property_Stolen</th>\n",
       "      <th>Value_of_Property_Recovered</th>\n",
       "      <th>Value_of_Property_Stolen</th>\n",
       "    </tr>\n",
       "  </thead>\n",
       "  <tbody>\n",
       "    <tr>\n",
       "      <th>count</th>\n",
       "      <td>183.000000</td>\n",
       "      <td>183.000000</td>\n",
       "      <td>183.000000</td>\n",
       "      <td>1.830000e+02</td>\n",
       "      <td>1.830000e+02</td>\n",
       "    </tr>\n",
       "    <tr>\n",
       "      <th>mean</th>\n",
       "      <td>2003.131148</td>\n",
       "      <td>791.601093</td>\n",
       "      <td>2596.207650</td>\n",
       "      <td>2.012088e+07</td>\n",
       "      <td>7.184229e+07</td>\n",
       "    </tr>\n",
       "    <tr>\n",
       "      <th>std</th>\n",
       "      <td>1.517032</td>\n",
       "      <td>1098.277367</td>\n",
       "      <td>3375.154137</td>\n",
       "      <td>4.759869e+07</td>\n",
       "      <td>1.140628e+08</td>\n",
       "    </tr>\n",
       "    <tr>\n",
       "      <th>min</th>\n",
       "      <td>2001.000000</td>\n",
       "      <td>0.000000</td>\n",
       "      <td>1.000000</td>\n",
       "      <td>0.000000e+00</td>\n",
       "      <td>2.160000e+03</td>\n",
       "    </tr>\n",
       "    <tr>\n",
       "      <th>25%</th>\n",
       "      <td>2002.000000</td>\n",
       "      <td>38.500000</td>\n",
       "      <td>163.000000</td>\n",
       "      <td>1.132580e+06</td>\n",
       "      <td>4.338077e+06</td>\n",
       "    </tr>\n",
       "    <tr>\n",
       "      <th>50%</th>\n",
       "      <td>2003.000000</td>\n",
       "      <td>217.000000</td>\n",
       "      <td>1345.000000</td>\n",
       "      <td>3.336861e+06</td>\n",
       "      <td>1.991958e+07</td>\n",
       "    </tr>\n",
       "    <tr>\n",
       "      <th>75%</th>\n",
       "      <td>2004.000000</td>\n",
       "      <td>1139.000000</td>\n",
       "      <td>3725.500000</td>\n",
       "      <td>2.693795e+07</td>\n",
       "      <td>1.136285e+08</td>\n",
       "    </tr>\n",
       "    <tr>\n",
       "      <th>max</th>\n",
       "      <td>2006.000000</td>\n",
       "      <td>4107.000000</td>\n",
       "      <td>14735.000000</td>\n",
       "      <td>5.424398e+08</td>\n",
       "      <td>6.649040e+08</td>\n",
       "    </tr>\n",
       "  </tbody>\n",
       "</table>\n",
       "</div>"
      ],
      "text/plain": [
       "              Year  Cases_Property_Recovered  Cases_Property_Stolen  \\\n",
       "count   183.000000                183.000000             183.000000   \n",
       "mean   2003.131148                791.601093            2596.207650   \n",
       "std       1.517032               1098.277367            3375.154137   \n",
       "min    2001.000000                  0.000000               1.000000   \n",
       "25%    2002.000000                 38.500000             163.000000   \n",
       "50%    2003.000000                217.000000            1345.000000   \n",
       "75%    2004.000000               1139.000000            3725.500000   \n",
       "max    2006.000000               4107.000000           14735.000000   \n",
       "\n",
       "       Value_of_Property_Recovered  Value_of_Property_Stolen  \n",
       "count                 1.830000e+02              1.830000e+02  \n",
       "mean                  2.012088e+07              7.184229e+07  \n",
       "std                   4.759869e+07              1.140628e+08  \n",
       "min                   0.000000e+00              2.160000e+03  \n",
       "25%                   1.132580e+06              4.338077e+06  \n",
       "50%                   3.336861e+06              1.991958e+07  \n",
       "75%                   2.693795e+07              1.136285e+08  \n",
       "max                   5.424398e+08              6.649040e+08  "
      ]
     },
     "execution_count": 36,
     "metadata": {},
     "output_type": "execute_result"
    }
   ],
   "source": [
    "df.describe()"
   ]
  },
  {
   "cell_type": "markdown",
   "metadata": {},
   "source": [
    "observations-:\n",
    "1. mean is more than median means data is right skewed.\n",
    "2.large difference between 75% and max means outliers can be present."
   ]
  },
  {
   "cell_type": "code",
   "execution_count": 37,
   "metadata": {
    "scrolled": true
   },
   "outputs": [
    {
     "name": "stdout",
     "output_type": "stream",
     "text": [
      "<class 'pandas.core.frame.DataFrame'>\n",
      "RangeIndex: 183 entries, 0 to 182\n",
      "Data columns (total 8 columns):\n",
      " #   Column                       Non-Null Count  Dtype \n",
      "---  ------                       --------------  ----- \n",
      " 0   Area_Name                    183 non-null    object\n",
      " 1   Year                         183 non-null    int64 \n",
      " 2   Group_Name                   183 non-null    object\n",
      " 3   Sub_Group_Name               183 non-null    object\n",
      " 4   Cases_Property_Recovered     183 non-null    int64 \n",
      " 5   Cases_Property_Stolen        183 non-null    int64 \n",
      " 6   Value_of_Property_Recovered  183 non-null    int64 \n",
      " 7   Value_of_Property_Stolen     183 non-null    int64 \n",
      "dtypes: int64(5), object(3)\n",
      "memory usage: 9.4+ KB\n"
     ]
    }
   ],
   "source": [
    "df.info()"
   ]
  },
  {
   "cell_type": "markdown",
   "metadata": {},
   "source": [
    "# Preparation to train model"
   ]
  },
  {
   "cell_type": "code",
   "execution_count": 39,
   "metadata": {},
   "outputs": [],
   "source": [
    "import sklearn\n",
    "from sklearn.preprocessing import LabelEncoder,OneHotEncoder"
   ]
  },
  {
   "cell_type": "code",
   "execution_count": 40,
   "metadata": {},
   "outputs": [
    {
     "data": {
      "text/plain": [
       "0      0\n",
       "1      1\n",
       "2      2\n",
       "3      3\n",
       "4      4\n",
       "      ..\n",
       "178    3\n",
       "179    4\n",
       "180    5\n",
       "181    6\n",
       "182    7\n",
       "Name: Area_Name, Length: 183, dtype: int32"
      ]
     },
     "execution_count": 40,
     "metadata": {},
     "output_type": "execute_result"
    }
   ],
   "source": [
    "le=LabelEncoder()\n",
    "df['Area_Name']=le.fit_transform(df['Area_Name'])\n",
    "df['Area_Name']"
   ]
  },
  {
   "cell_type": "code",
   "execution_count": 41,
   "metadata": {},
   "outputs": [
    {
     "data": {
      "text/plain": [
       "0      0\n",
       "1      0\n",
       "2      0\n",
       "3      0\n",
       "4      0\n",
       "      ..\n",
       "178    0\n",
       "179    0\n",
       "180    0\n",
       "181    0\n",
       "182    0\n",
       "Name: Group_Name, Length: 183, dtype: int32"
      ]
     },
     "execution_count": 41,
     "metadata": {},
     "output_type": "execute_result"
    }
   ],
   "source": [
    "le=LabelEncoder()\n",
    "df['Group_Name']=le.fit_transform(df['Group_Name'])\n",
    "df['Group_Name']"
   ]
  },
  {
   "cell_type": "code",
   "execution_count": 42,
   "metadata": {},
   "outputs": [],
   "source": [
    "from sklearn.linear_model import LinearRegression \n",
    "from sklearn.metrics import mean_squared_error,mean_absolute_error\n",
    "from sklearn.model_selection import train_test_split\n"
   ]
  },
  {
   "cell_type": "code",
   "execution_count": 60,
   "metadata": {},
   "outputs": [
    {
     "data": {
      "text/plain": [
       "LinearRegression()"
      ]
     },
     "execution_count": 60,
     "metadata": {},
     "output_type": "execute_result"
    }
   ],
   "source": [
    "Y=df['Area_Name']\n",
    "X=df.drop(['Sub_Group_Name','Area_Name'], axis=1)\n",
    "X_train, X_test, Y_train, Y_test = train_test_split(X, Y, test_size = 0.3, random_state = 101)\n",
    "lm = LinearRegression()\n",
    "lm.fit(X_train,Y_train)"
   ]
  },
  {
   "cell_type": "code",
   "execution_count": 61,
   "metadata": {},
   "outputs": [
    {
     "data": {
      "text/html": [
       "<div>\n",
       "<style scoped>\n",
       "    .dataframe tbody tr th:only-of-type {\n",
       "        vertical-align: middle;\n",
       "    }\n",
       "\n",
       "    .dataframe tbody tr th {\n",
       "        vertical-align: top;\n",
       "    }\n",
       "\n",
       "    .dataframe thead th {\n",
       "        text-align: right;\n",
       "    }\n",
       "</style>\n",
       "<table border=\"1\" class=\"dataframe\">\n",
       "  <thead>\n",
       "    <tr style=\"text-align: right;\">\n",
       "      <th></th>\n",
       "      <th>Year</th>\n",
       "      <th>Group_Name</th>\n",
       "      <th>Cases_Property_Recovered</th>\n",
       "      <th>Cases_Property_Stolen</th>\n",
       "      <th>Value_of_Property_Recovered</th>\n",
       "      <th>Value_of_Property_Stolen</th>\n",
       "    </tr>\n",
       "  </thead>\n",
       "  <tbody>\n",
       "    <tr>\n",
       "      <th>0</th>\n",
       "      <td>2001</td>\n",
       "      <td>0</td>\n",
       "      <td>27</td>\n",
       "      <td>64</td>\n",
       "      <td>755858</td>\n",
       "      <td>1321961</td>\n",
       "    </tr>\n",
       "    <tr>\n",
       "      <th>1</th>\n",
       "      <td>2001</td>\n",
       "      <td>0</td>\n",
       "      <td>3321</td>\n",
       "      <td>7134</td>\n",
       "      <td>51483437</td>\n",
       "      <td>147019348</td>\n",
       "    </tr>\n",
       "    <tr>\n",
       "      <th>2</th>\n",
       "      <td>2001</td>\n",
       "      <td>0</td>\n",
       "      <td>66</td>\n",
       "      <td>248</td>\n",
       "      <td>825115</td>\n",
       "      <td>4931904</td>\n",
       "    </tr>\n",
       "    <tr>\n",
       "      <th>3</th>\n",
       "      <td>2001</td>\n",
       "      <td>0</td>\n",
       "      <td>539</td>\n",
       "      <td>2423</td>\n",
       "      <td>3722850</td>\n",
       "      <td>21466955</td>\n",
       "    </tr>\n",
       "    <tr>\n",
       "      <th>4</th>\n",
       "      <td>2001</td>\n",
       "      <td>0</td>\n",
       "      <td>367</td>\n",
       "      <td>3231</td>\n",
       "      <td>2327135</td>\n",
       "      <td>17023937</td>\n",
       "    </tr>\n",
       "    <tr>\n",
       "      <th>...</th>\n",
       "      <td>...</td>\n",
       "      <td>...</td>\n",
       "      <td>...</td>\n",
       "      <td>...</td>\n",
       "      <td>...</td>\n",
       "      <td>...</td>\n",
       "    </tr>\n",
       "    <tr>\n",
       "      <th>178</th>\n",
       "      <td>2006</td>\n",
       "      <td>0</td>\n",
       "      <td>557</td>\n",
       "      <td>2911</td>\n",
       "      <td>9818045</td>\n",
       "      <td>35783913</td>\n",
       "    </tr>\n",
       "    <tr>\n",
       "      <th>179</th>\n",
       "      <td>2006</td>\n",
       "      <td>0</td>\n",
       "      <td>362</td>\n",
       "      <td>3531</td>\n",
       "      <td>3180927</td>\n",
       "      <td>36841471</td>\n",
       "    </tr>\n",
       "    <tr>\n",
       "      <th>180</th>\n",
       "      <td>2006</td>\n",
       "      <td>0</td>\n",
       "      <td>98</td>\n",
       "      <td>189</td>\n",
       "      <td>2923970</td>\n",
       "      <td>6810631</td>\n",
       "    </tr>\n",
       "    <tr>\n",
       "      <th>181</th>\n",
       "      <td>2006</td>\n",
       "      <td>0</td>\n",
       "      <td>1070</td>\n",
       "      <td>3507</td>\n",
       "      <td>8717499</td>\n",
       "      <td>74386571</td>\n",
       "    </tr>\n",
       "    <tr>\n",
       "      <th>182</th>\n",
       "      <td>2006</td>\n",
       "      <td>0</td>\n",
       "      <td>12</td>\n",
       "      <td>41</td>\n",
       "      <td>971220</td>\n",
       "      <td>3752927</td>\n",
       "    </tr>\n",
       "  </tbody>\n",
       "</table>\n",
       "<p>183 rows × 6 columns</p>\n",
       "</div>"
      ],
      "text/plain": [
       "     Year  Group_Name  Cases_Property_Recovered  Cases_Property_Stolen  \\\n",
       "0    2001           0                        27                     64   \n",
       "1    2001           0                      3321                   7134   \n",
       "2    2001           0                        66                    248   \n",
       "3    2001           0                       539                   2423   \n",
       "4    2001           0                       367                   3231   \n",
       "..    ...         ...                       ...                    ...   \n",
       "178  2006           0                       557                   2911   \n",
       "179  2006           0                       362                   3531   \n",
       "180  2006           0                        98                    189   \n",
       "181  2006           0                      1070                   3507   \n",
       "182  2006           0                        12                     41   \n",
       "\n",
       "     Value_of_Property_Recovered  Value_of_Property_Stolen  \n",
       "0                         755858                   1321961  \n",
       "1                       51483437                 147019348  \n",
       "2                         825115                   4931904  \n",
       "3                        3722850                  21466955  \n",
       "4                        2327135                  17023937  \n",
       "..                           ...                       ...  \n",
       "178                      9818045                  35783913  \n",
       "179                      3180927                  36841471  \n",
       "180                      2923970                   6810631  \n",
       "181                      8717499                  74386571  \n",
       "182                       971220                   3752927  \n",
       "\n",
       "[183 rows x 6 columns]"
      ]
     },
     "execution_count": 61,
     "metadata": {},
     "output_type": "execute_result"
    }
   ],
   "source": [
    "X"
   ]
  },
  {
   "cell_type": "code",
   "execution_count": 62,
   "metadata": {},
   "outputs": [
    {
     "data": {
      "text/plain": [
       "0      0\n",
       "1      1\n",
       "2      2\n",
       "3      3\n",
       "4      4\n",
       "      ..\n",
       "178    3\n",
       "179    4\n",
       "180    5\n",
       "181    6\n",
       "182    7\n",
       "Name: Area_Name, Length: 183, dtype: int32"
      ]
     },
     "execution_count": 62,
     "metadata": {},
     "output_type": "execute_result"
    }
   ],
   "source": [
    "Y"
   ]
  },
  {
   "cell_type": "code",
   "execution_count": 63,
   "metadata": {},
   "outputs": [
    {
     "data": {
      "text/plain": [
       "(128, 6)"
      ]
     },
     "execution_count": 63,
     "metadata": {},
     "output_type": "execute_result"
    }
   ],
   "source": [
    "X_train.shape"
   ]
  },
  {
   "cell_type": "code",
   "execution_count": 64,
   "metadata": {},
   "outputs": [
    {
     "data": {
      "text/plain": [
       "(128,)"
      ]
     },
     "execution_count": 64,
     "metadata": {},
     "output_type": "execute_result"
    }
   ],
   "source": [
    "Y_train.shape"
   ]
  },
  {
   "cell_type": "code",
   "execution_count": 65,
   "metadata": {},
   "outputs": [
    {
     "data": {
      "text/plain": [
       "array([-9.01474482e-01,  4.87498969e-10,  1.00381132e-03, -6.24133014e-04,\n",
       "        7.93910621e-08, -2.61341386e-09])"
      ]
     },
     "execution_count": 65,
     "metadata": {},
     "output_type": "execute_result"
    }
   ],
   "source": [
    "lm.coef_"
   ]
  },
  {
   "cell_type": "code",
   "execution_count": 66,
   "metadata": {},
   "outputs": [
    {
     "data": {
      "text/plain": [
       "1821.2101617784713"
      ]
     },
     "execution_count": 66,
     "metadata": {},
     "output_type": "execute_result"
    }
   ],
   "source": [
    "lm.intercept_"
   ]
  },
  {
   "cell_type": "code",
   "execution_count": 67,
   "metadata": {},
   "outputs": [
    {
     "data": {
      "text/plain": [
       "(55,)"
      ]
     },
     "execution_count": 67,
     "metadata": {},
     "output_type": "execute_result"
    }
   ],
   "source": [
    "Y_test.shape"
   ]
  },
  {
   "cell_type": "code",
   "execution_count": 68,
   "metadata": {},
   "outputs": [
    {
     "data": {
      "text/plain": [
       "0.031051466561187735"
      ]
     },
     "execution_count": 68,
     "metadata": {},
     "output_type": "execute_result"
    }
   ],
   "source": [
    "lm.score(X_train,Y_train)"
   ]
  },
  {
   "cell_type": "code",
   "execution_count": 69,
   "metadata": {},
   "outputs": [
    {
     "name": "stdout",
     "output_type": "stream",
     "text": [
      "Ytest: [16.08477982 14.61448164 19.72794917 16.61833618 55.43245329 16.53192907\n",
      " 13.45313341 17.29849317 17.32604221 15.65890876 14.08400861 15.51011846\n",
      " 17.39419509 14.98969364 16.45646456 14.68407164 13.62341961 18.69211686\n",
      " 13.75419552 15.58672189 12.90610567 13.04710161 14.48116437 20.52340478\n",
      " 13.72556484 13.23225194 13.72101252 15.55285993 18.13144945 16.431178\n",
      " 17.40422226 16.49767412 14.75511327 17.18683137 16.44070344 13.75815761\n",
      " 16.6985162  15.85181167 16.863816   19.94391837 16.39142553 13.85948803\n",
      " 14.65577683 19.3106463  19.31859423 17.15931161 16.44169466 11.16817234\n",
      " 13.84265016 25.28472745 16.32615959 15.8624779  15.64949274 15.5075118\n",
      " 14.65621604]\n",
      "Predicted y: 48     13\n",
      "90     20\n",
      "125    20\n",
      "43      8\n",
      "32     32\n",
      "42      7\n",
      "149     9\n",
      "31     31\n",
      "22     22\n",
      "80     10\n",
      "74      4\n",
      "41      6\n",
      "25     25\n",
      "39      4\n",
      "53     18\n",
      "118    13\n",
      "173    33\n",
      "12     12\n",
      "158    18\n",
      "133    28\n",
      "182     7\n",
      "180     5\n",
      "163    23\n",
      "135    30\n",
      "169    29\n",
      "89     19\n",
      "142     2\n",
      "88     18\n",
      "16     16\n",
      "55     20\n",
      "34     34\n",
      "61     26\n",
      "131    26\n",
      "98     28\n",
      "64     29\n",
      "148     8\n",
      "37      2\n",
      "4       4\n",
      "15     15\n",
      "1       1\n",
      "66     31\n",
      "108     3\n",
      "139    34\n",
      "36      1\n",
      "65     30\n",
      "33     33\n",
      "151    11\n",
      "179     4\n",
      "166    26\n",
      "102    32\n",
      "152    12\n",
      "50     15\n",
      "104    34\n",
      "91     21\n",
      "134    29\n",
      "Name: Area_Name, dtype: int32\n"
     ]
    }
   ],
   "source": [
    "#predict the value\n",
    "pred=lm.predict(X_test)\n",
    "print('Ytest:',pred)\n",
    "print('Predicted y:',Y_test)"
   ]
  },
  {
   "cell_type": "code",
   "execution_count": 70,
   "metadata": {},
   "outputs": [
    {
     "name": "stdout",
     "output_type": "stream",
     "text": [
      "Mean Absolute Error: 9.348208001484318\n",
      "Mean Squared Error: 117.49957504007996\n",
      "Root Mean Squared Error: 10.839722092382257\n"
     ]
    }
   ],
   "source": [
    "from sklearn import metrics\n",
    "\n",
    "print('Mean Absolute Error:', metrics.mean_absolute_error(Y_test, pred))\n",
    "print('Mean Squared Error:', metrics.mean_squared_error(Y_test, pred))\n",
    "print('Root Mean Squared Error:', np.sqrt(metrics.mean_squared_error(Y_test, pred)))"
   ]
  },
  {
   "cell_type": "code",
   "execution_count": 71,
   "metadata": {},
   "outputs": [
    {
     "name": "stdout",
     "output_type": "stream",
     "text": [
      "-0.02660767161214106\n"
     ]
    }
   ],
   "source": [
    "from sklearn.metrics import r2_score\n",
    "print(r2_score(Y_test,pred))"
   ]
  },
  {
   "cell_type": "code",
   "execution_count": 72,
   "metadata": {},
   "outputs": [
    {
     "name": "stdout",
     "output_type": "stream",
     "text": [
      "[-1.4697067   0.05100289 -0.2640332 ]\n"
     ]
    }
   ],
   "source": [
    "from sklearn.model_selection import cross_val_score\n",
    "print(cross_val_score(lm, X, Y, cv=3))"
   ]
  },
  {
   "cell_type": "code",
   "execution_count": null,
   "metadata": {},
   "outputs": [
    {
     "name": "stdout",
     "output_type": "stream",
     "text": [
      "0.05167774657092983\n"
     ]
    }
   ],
   "source": [
    "from sklearn.svm import SVR\n",
    "kernellist=['rbf','linear','poly']\n",
    "for i in kernellist:\n",
    "    sv=SVR(kernel=i)\n",
    "    sv.fit(X_train,Y_train)\n",
    "    print(sv.score(X_train,Y_train))\n"
   ]
  },
  {
   "cell_type": "code",
   "execution_count": null,
   "metadata": {},
   "outputs": [],
   "source": [
    "dft=pd.DataFrame(pred)\n",
    "dft.to_csv('danger in area of property stolen predictions.csv')"
   ]
  },
  {
   "cell_type": "code",
   "execution_count": null,
   "metadata": {},
   "outputs": [],
   "source": [
    "joblib.dump(rbf,'svfile.obj')\n",
    "sv_from_joblib=joblib.load('svfile.obj')\n",
    "sv_from_joblib.predict(x_test)"
   ]
  },
  {
   "cell_type": "markdown",
   "metadata": {},
   "source": [
    "shows which areas are safer"
   ]
  },
  {
   "cell_type": "code",
   "execution_count": null,
   "metadata": {},
   "outputs": [],
   "source": []
  }
 ],
 "metadata": {
  "kernelspec": {
   "display_name": "Python 3",
   "language": "python",
   "name": "python3"
  },
  "language_info": {
   "codemirror_mode": {
    "name": "ipython",
    "version": 3
   },
   "file_extension": ".py",
   "mimetype": "text/x-python",
   "name": "python",
   "nbconvert_exporter": "python",
   "pygments_lexer": "ipython3",
   "version": "3.8.5"
  }
 },
 "nbformat": 4,
 "nbformat_minor": 4
}
